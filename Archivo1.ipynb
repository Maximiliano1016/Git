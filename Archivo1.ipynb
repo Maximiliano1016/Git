{
  "nbformat": 4,
  "nbformat_minor": 0,
  "metadata": {
    "colab": {
      "provenance": [],
      "authorship_tag": "ABX9TyPbirC8e4xfHV/xQxn4FB/m",
      "include_colab_link": true
    },
    "kernelspec": {
      "name": "python3",
      "display_name": "Python 3"
    },
    "language_info": {
      "name": "python"
    }
  },
  "cells": [
    {
      "cell_type": "markdown",
      "metadata": {
        "id": "view-in-github",
        "colab_type": "text"
      },
      "source": [
        "<a href=\"https://colab.research.google.com/github/Maximiliano1016/Git/blob/main/Archivo1.ipynb\" target=\"_parent\"><img src=\"https://colab.research.google.com/assets/colab-badge.svg\" alt=\"Open In Colab\"/></a>"
      ]
    },
    {
      "cell_type": "code",
      "execution_count": 12,
      "metadata": {
        "colab": {
          "base_uri": "https://localhost:8080/"
        },
        "id": "SsQcBj9cvZQ4",
        "outputId": "cb4aaca7-df48-46cc-d54d-fde32ee683a3"
      },
      "outputs": [
        {
          "output_type": "stream",
          "name": "stdout",
          "text": [
            "1\n",
            "3\n",
            "5\n",
            "7\n",
            "9\n"
          ]
        }
      ],
      "source": [
        "for i in range(10):\n",
        "  if i % 2 ==1:\n",
        "    print(i)\n"
      ]
    },
    {
      "cell_type": "code",
      "source": [
        "i = 0\n",
        "while i < 20 and i // 4 ==0:\n",
        "  print(i)\n",
        "  i += 2\n",
        ""
      ],
      "metadata": {
        "colab": {
          "base_uri": "https://localhost:8080/"
        },
        "id": "x_flyeKOxJYG",
        "outputId": "4e8701ed-60a3-4762-f201-c061eb9491d9"
      },
      "execution_count": 20,
      "outputs": [
        {
          "output_type": "stream",
          "name": "stdout",
          "text": [
            "0\n",
            "2\n"
          ]
        }
      ]
    },
    {
      "cell_type": "markdown",
      "source": [
        "Ejercicio 1\n",
        "Adivina el número: escribe un programa que genere un número aleatorio y pida un número al usuario de manera repetida hasta que lo adivine."
      ],
      "metadata": {
        "id": "sxV3WNYZyoHy"
      }
    },
    {
      "cell_type": "code",
      "source": [
        "# Esribe tu código aquí\n",
        "import random\n",
        "\n",
        "while True:\n",
        "  x = random.randint(1,10)\n",
        "  num = int(input(\"Dame un número entero del 1 al 10: \"))\n",
        "  if num == x:\n",
        "    print(\"Adivinaste\")\n",
        "    break\n",
        "  else:\n",
        "    print(f\"No adivinaste, el número era {x}\")\n",
        "\n"
      ],
      "metadata": {
        "colab": {
          "base_uri": "https://localhost:8080/"
        },
        "id": "FyFuFWEXy6F6",
        "outputId": "e139dab6-cee6-49d0-8bc0-a60e6aabfffa"
      },
      "execution_count": 30,
      "outputs": [
        {
          "output_type": "stream",
          "name": "stdout",
          "text": [
            "Dame un número entero del 1 al 10: 8\n",
            "No adivinaste, el número era 1\n",
            "Dame un número entero del 1 al 10: 8\n",
            "No adivinaste, el número era 6\n",
            "Dame un número entero del 1 al 10: 8\n",
            "No adivinaste, el número era 6\n",
            "Dame un número entero del 1 al 10: 8\n",
            "No adivinaste, el número era 1\n",
            "Dame un número entero del 1 al 10: 8\n",
            "No adivinaste, el número era 6\n",
            "Dame un número entero del 1 al 10: 8\n",
            "No adivinaste, el número era 4\n",
            "Dame un número entero del 1 al 10: 8\n",
            "No adivinaste, el número era 10\n",
            "Dame un número entero del 1 al 10: 8\n",
            "No adivinaste, el número era 9\n",
            "Dame un número entero del 1 al 10: 8\n",
            "No adivinaste, el número era 7\n",
            "Dame un número entero del 1 al 10: 8\n",
            "No adivinaste, el número era 3\n",
            "Dame un número entero del 1 al 10: 8\n",
            "No adivinaste, el número era 6\n",
            "Dame un número entero del 1 al 10: 8\n",
            "No adivinaste, el número era 1\n",
            "Dame un número entero del 1 al 10: 8\n",
            "No adivinaste, el número era 6\n",
            "Dame un número entero del 1 al 10: 8\n",
            "No adivinaste, el número era 10\n",
            "Dame un número entero del 1 al 10: 8\n",
            "Adivinaste\n"
          ]
        }
      ]
    },
    {
      "cell_type": "code",
      "source": [
        "# Esribe tu código aquí\n",
        "import random\n",
        "x = random.randint(1,20)\n",
        "y = 5\n",
        "while True:\n",
        "  num = int(input(\"Dame un número entero del 1 al 20, tienes 5 oportunidades de adivinar: \"))\n",
        "  if num == x:\n",
        "    print(\"Felicidades, adivinaste!\")\n",
        "    break\n",
        "  elif num > x:\n",
        "    y = y-1\n",
        "    print(f\"El número es menor que {num}, te quedan {y} oportunidades\")\n",
        "\n",
        "  else:\n",
        "    y = y-1\n",
        "    print(f\"El número es mayor que {num}, te quedan {y} oportunidades\")\n",
        "    if y == 0:\n",
        "      print(\"Perdiste\")\n",
        "      break\n",
        "\n",
        ""
      ],
      "metadata": {
        "colab": {
          "base_uri": "https://localhost:8080/"
        },
        "id": "BwfRaLzm2cXh",
        "outputId": "7e2a746e-5218-40ac-b2ea-35c76df3a1b8"
      },
      "execution_count": 46,
      "outputs": [
        {
          "output_type": "stream",
          "name": "stdout",
          "text": [
            "Dame un número entero del 1 al 20, tienes 5 oportunidades de adivinar: 12\n",
            "El número es menor que 12, te quedan 4 oportunidades\n",
            "Dame un número entero del 1 al 20, tienes 5 oportunidades de adivinar: 5\n",
            "El número es mayor que 5, te quedan 3 oportunidades\n",
            "Dame un número entero del 1 al 20, tienes 5 oportunidades de adivinar: 8\n",
            "El número es mayor que 8, te quedan 2 oportunidades\n",
            "Dame un número entero del 1 al 20, tienes 5 oportunidades de adivinar: 9\n",
            "El número es mayor que 9, te quedan 1 oportunidades\n",
            "Dame un número entero del 1 al 20, tienes 5 oportunidades de adivinar: 10\n",
            "El número es mayor que 10, te quedan 0 oportunidades\n",
            "Perdiste\n"
          ]
        }
      ]
    }
  ]
}